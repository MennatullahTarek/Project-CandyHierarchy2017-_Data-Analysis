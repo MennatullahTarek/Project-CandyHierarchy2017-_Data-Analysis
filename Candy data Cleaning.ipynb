{
 "cells": [
  {
   "cell_type": "markdown",
   "id": "38aeae9a",
   "metadata": {},
   "source": [
    "# Project: CandyHierarchy2017 _Data Cleaning"
   ]
  },
  {
   "cell_type": "markdown",
   "id": "90c7574d",
   "metadata": {},
   "source": [
    "- Dataset Description\n",
    "- important Libraries and Data\n",
    "- Data preperation\n",
    "  - Missing data\n",
    "  - inconsistent data\n",
    "- Data Visualization\n",
    "- Conclusion "
   ]
  },
  {
   "cell_type": "markdown",
   "id": "33b2b299",
   "metadata": {},
   "source": [
    "  "
   ]
  },
  {
   "cell_type": "markdown",
   "id": "fdb5ac5f",
   "metadata": {},
   "source": [
    "- ## Dataset Description :"
   ]
  },
  {
   "cell_type": "markdown",
   "id": "7b581e8d",
   "metadata": {},
   "source": [
    "https://drive.google.com/drive/u/0/folders/1THFVmmCrMP87eutjbIrSXJCTJLsR9-DS"
   ]
  },
  {
   "cell_type": "markdown",
   "id": "d20bc247",
   "metadata": {},
   "source": [
    " ###  i will go through candy data 2017 , this data has :\n",
    "\n",
    "- **Internal_ID**\n",
    "\n",
    "\n",
    "- **Q1-Going Out?**: Are you actually going trick or treating yourself? \"has values **Yes or No**\"\n",
    "\n",
    "\n",
    "- **Q2-Gender**: It has four different options, **Femal** ,**Male** ,**Other** ,**I'd rather not say**\n",
    "\n",
    "\n",
    "- **Q3-Age**: Numerical field\n",
    "\n",
    "\n",
    "- **Q4-Country**: Text Field, but users have written their own version of the names.  \n",
    "\n",
    "\n",
    "- **Q5-State/Province**: Text Field, but users have written their own version of the names. Same as the country data.\n",
    "\n",
    "\n",
    "- **Q6-Joy Or Despair**: All kinds of chocolate bars are the questions with three distinct options to choose from (Joy, Meh, Despair).\n",
    "\n",
    "\n",
    "- **Q7-Joy Other**: Text Field to write items not included above that give you JOY. \n",
    "\n",
    "\n",
    "- **Q8-Despair Other**: Text Field ti write items not included above that give you DESPAIR. \n",
    "\n",
    "\n",
    "- **Q9-Other Comments**: Text Field. \n",
    "\n",
    "\n",
    "- **Q10-Dress**: Binary field.\n",
    "\n",
    "\n",
    "- **Q11-Day**: Binary Answer Field. "
   ]
  },
  {
   "cell_type": "markdown",
   "id": "24cef453",
   "metadata": {},
   "source": [
    "  "
   ]
  },
  {
   "cell_type": "markdown",
   "id": "4fef29fb",
   "metadata": {},
   "source": [
    "- ## Data Perpetration :"
   ]
  },
  {
   "cell_type": "code",
   "execution_count": 1,
   "id": "d45c6a94",
   "metadata": {},
   "outputs": [],
   "source": [
    "import pandas as pd\n",
    "import numpy as np\n",
    "import matplotlib.pyplot as plt\n",
    "import seaborn as sns\n",
    "sns.set(color_codes=True)\n",
    "\n",
    "\n",
    "np.random.seed(0)\n",
    "%matplotlib inline"
   ]
  },
  {
   "cell_type": "code",
   "execution_count": 2,
   "id": "45ac1a29",
   "metadata": {},
   "outputs": [
    {
     "name": "stderr",
     "output_type": "stream",
     "text": [
      "C:\\Users\\menat\\anaconda3\\lib\\site-packages\\openpyxl\\worksheet\\_read_only.py:79: UserWarning: Unknown extension is not supported and will be removed\n",
      "  for idx, row in parser.parse():\n"
     ]
    }
   ],
   "source": [
    "Candy=pd.read_excel(\"candydata.xlsx\")"
   ]
  },
  {
   "cell_type": "code",
   "execution_count": 3,
   "id": "968f9d24",
   "metadata": {},
   "outputs": [
    {
     "data": {
      "text/html": [
       "<div>\n",
       "<style scoped>\n",
       "    .dataframe tbody tr th:only-of-type {\n",
       "        vertical-align: middle;\n",
       "    }\n",
       "\n",
       "    .dataframe tbody tr th {\n",
       "        vertical-align: top;\n",
       "    }\n",
       "\n",
       "    .dataframe thead th {\n",
       "        text-align: right;\n",
       "    }\n",
       "</style>\n",
       "<table border=\"1\" class=\"dataframe\">\n",
       "  <thead>\n",
       "    <tr style=\"text-align: right;\">\n",
       "      <th></th>\n",
       "      <th>Internal ID</th>\n",
       "      <th>Q1: GOING OUT?</th>\n",
       "      <th>Q2: GENDER</th>\n",
       "      <th>Q3: AGE</th>\n",
       "      <th>Q4: COUNTRY</th>\n",
       "      <th>Q5: STATE, PROVINCE, COUNTY, ETC</th>\n",
       "      <th>Q6 | 100 Grand Bar</th>\n",
       "      <th>Q6 | Anonymous brown globs that come in black and orange wrappers\\t(a.k.a. Mary Janes)</th>\n",
       "      <th>Q6 | Any full-sized candy bar</th>\n",
       "      <th>Q6 | Black Jacks</th>\n",
       "      <th>...</th>\n",
       "      <th>Q8: DESPAIR OTHER</th>\n",
       "      <th>Q9: OTHER COMMENTS</th>\n",
       "      <th>Q10: DRESS</th>\n",
       "      <th>Unnamed: 113</th>\n",
       "      <th>Q11: DAY</th>\n",
       "      <th>Q12: MEDIA [Daily Dish]</th>\n",
       "      <th>Q12: MEDIA [Science]</th>\n",
       "      <th>Q12: MEDIA [ESPN]</th>\n",
       "      <th>Q12: MEDIA [Yahoo]</th>\n",
       "      <th>Click Coordinates (x, y)</th>\n",
       "    </tr>\n",
       "  </thead>\n",
       "  <tbody>\n",
       "    <tr>\n",
       "      <th>0</th>\n",
       "      <td>90258773</td>\n",
       "      <td>NaN</td>\n",
       "      <td>NaN</td>\n",
       "      <td>NaN</td>\n",
       "      <td>NaN</td>\n",
       "      <td>NaN</td>\n",
       "      <td>NaN</td>\n",
       "      <td>NaN</td>\n",
       "      <td>NaN</td>\n",
       "      <td>NaN</td>\n",
       "      <td>...</td>\n",
       "      <td>NaN</td>\n",
       "      <td>NaN</td>\n",
       "      <td>NaN</td>\n",
       "      <td>NaN</td>\n",
       "      <td>NaN</td>\n",
       "      <td>NaN</td>\n",
       "      <td>NaN</td>\n",
       "      <td>NaN</td>\n",
       "      <td>NaN</td>\n",
       "      <td>NaN</td>\n",
       "    </tr>\n",
       "    <tr>\n",
       "      <th>1</th>\n",
       "      <td>90272821</td>\n",
       "      <td>No</td>\n",
       "      <td>Male</td>\n",
       "      <td>44</td>\n",
       "      <td>USA</td>\n",
       "      <td>NM</td>\n",
       "      <td>MEH</td>\n",
       "      <td>DESPAIR</td>\n",
       "      <td>JOY</td>\n",
       "      <td>MEH</td>\n",
       "      <td>...</td>\n",
       "      <td>NaN</td>\n",
       "      <td>Bottom line is Twix is really the only candy w...</td>\n",
       "      <td>White and gold</td>\n",
       "      <td>NaN</td>\n",
       "      <td>Sunday</td>\n",
       "      <td>NaN</td>\n",
       "      <td>1.0</td>\n",
       "      <td>NaN</td>\n",
       "      <td>NaN</td>\n",
       "      <td>(84, 25)</td>\n",
       "    </tr>\n",
       "    <tr>\n",
       "      <th>2</th>\n",
       "      <td>90272829</td>\n",
       "      <td>NaN</td>\n",
       "      <td>Male</td>\n",
       "      <td>49</td>\n",
       "      <td>USA</td>\n",
       "      <td>Virginia</td>\n",
       "      <td>NaN</td>\n",
       "      <td>NaN</td>\n",
       "      <td>NaN</td>\n",
       "      <td>NaN</td>\n",
       "      <td>...</td>\n",
       "      <td>NaN</td>\n",
       "      <td>NaN</td>\n",
       "      <td>NaN</td>\n",
       "      <td>NaN</td>\n",
       "      <td>NaN</td>\n",
       "      <td>NaN</td>\n",
       "      <td>NaN</td>\n",
       "      <td>NaN</td>\n",
       "      <td>NaN</td>\n",
       "      <td>NaN</td>\n",
       "    </tr>\n",
       "    <tr>\n",
       "      <th>3</th>\n",
       "      <td>90272840</td>\n",
       "      <td>No</td>\n",
       "      <td>Male</td>\n",
       "      <td>40</td>\n",
       "      <td>us</td>\n",
       "      <td>or</td>\n",
       "      <td>MEH</td>\n",
       "      <td>DESPAIR</td>\n",
       "      <td>JOY</td>\n",
       "      <td>MEH</td>\n",
       "      <td>...</td>\n",
       "      <td>NaN</td>\n",
       "      <td>Raisins can go to hell</td>\n",
       "      <td>White and gold</td>\n",
       "      <td>NaN</td>\n",
       "      <td>Sunday</td>\n",
       "      <td>NaN</td>\n",
       "      <td>1.0</td>\n",
       "      <td>NaN</td>\n",
       "      <td>NaN</td>\n",
       "      <td>(75, 23)</td>\n",
       "    </tr>\n",
       "    <tr>\n",
       "      <th>4</th>\n",
       "      <td>90272841</td>\n",
       "      <td>No</td>\n",
       "      <td>Male</td>\n",
       "      <td>23</td>\n",
       "      <td>usa</td>\n",
       "      <td>exton pa</td>\n",
       "      <td>JOY</td>\n",
       "      <td>DESPAIR</td>\n",
       "      <td>JOY</td>\n",
       "      <td>DESPAIR</td>\n",
       "      <td>...</td>\n",
       "      <td>NaN</td>\n",
       "      <td>NaN</td>\n",
       "      <td>White and gold</td>\n",
       "      <td>NaN</td>\n",
       "      <td>Friday</td>\n",
       "      <td>NaN</td>\n",
       "      <td>1.0</td>\n",
       "      <td>NaN</td>\n",
       "      <td>NaN</td>\n",
       "      <td>(70, 10)</td>\n",
       "    </tr>\n",
       "    <tr>\n",
       "      <th>5</th>\n",
       "      <td>90272852</td>\n",
       "      <td>No</td>\n",
       "      <td>Male</td>\n",
       "      <td>NaN</td>\n",
       "      <td>NaN</td>\n",
       "      <td>NaN</td>\n",
       "      <td>JOY</td>\n",
       "      <td>DESPAIR</td>\n",
       "      <td>JOY</td>\n",
       "      <td>NaN</td>\n",
       "      <td>...</td>\n",
       "      <td>NaN</td>\n",
       "      <td>NaN</td>\n",
       "      <td>NaN</td>\n",
       "      <td>NaN</td>\n",
       "      <td>NaN</td>\n",
       "      <td>NaN</td>\n",
       "      <td>1.0</td>\n",
       "      <td>NaN</td>\n",
       "      <td>NaN</td>\n",
       "      <td>(75, 23)</td>\n",
       "    </tr>\n",
       "    <tr>\n",
       "      <th>6</th>\n",
       "      <td>90272853</td>\n",
       "      <td>No</td>\n",
       "      <td>Male</td>\n",
       "      <td>53</td>\n",
       "      <td>usa</td>\n",
       "      <td>Colorado</td>\n",
       "      <td>NaN</td>\n",
       "      <td>NaN</td>\n",
       "      <td>NaN</td>\n",
       "      <td>NaN</td>\n",
       "      <td>...</td>\n",
       "      <td>NaN</td>\n",
       "      <td>NaN</td>\n",
       "      <td>NaN</td>\n",
       "      <td>NaN</td>\n",
       "      <td>NaN</td>\n",
       "      <td>NaN</td>\n",
       "      <td>NaN</td>\n",
       "      <td>NaN</td>\n",
       "      <td>NaN</td>\n",
       "      <td>NaN</td>\n",
       "    </tr>\n",
       "    <tr>\n",
       "      <th>7</th>\n",
       "      <td>90272854</td>\n",
       "      <td>No</td>\n",
       "      <td>Male</td>\n",
       "      <td>33</td>\n",
       "      <td>canada</td>\n",
       "      <td>ontario</td>\n",
       "      <td>JOY</td>\n",
       "      <td>DESPAIR</td>\n",
       "      <td>JOY</td>\n",
       "      <td>DESPAIR</td>\n",
       "      <td>...</td>\n",
       "      <td>when the little kids get the big chocolate bar...</td>\n",
       "      <td>first person to give out cans of beer, wins</td>\n",
       "      <td>Blue and black</td>\n",
       "      <td>NaN</td>\n",
       "      <td>Friday</td>\n",
       "      <td>NaN</td>\n",
       "      <td>1.0</td>\n",
       "      <td>NaN</td>\n",
       "      <td>NaN</td>\n",
       "      <td>(55, 5)</td>\n",
       "    </tr>\n",
       "    <tr>\n",
       "      <th>8</th>\n",
       "      <td>90272858</td>\n",
       "      <td>No</td>\n",
       "      <td>Male</td>\n",
       "      <td>40</td>\n",
       "      <td>Canada</td>\n",
       "      <td>Ontario</td>\n",
       "      <td>JOY</td>\n",
       "      <td>DESPAIR</td>\n",
       "      <td>JOY</td>\n",
       "      <td>MEH</td>\n",
       "      <td>...</td>\n",
       "      <td>NaN</td>\n",
       "      <td>NaN</td>\n",
       "      <td>Blue and black</td>\n",
       "      <td>NaN</td>\n",
       "      <td>Sunday</td>\n",
       "      <td>NaN</td>\n",
       "      <td>1.0</td>\n",
       "      <td>NaN</td>\n",
       "      <td>NaN</td>\n",
       "      <td>(76, 24)</td>\n",
       "    </tr>\n",
       "    <tr>\n",
       "      <th>9</th>\n",
       "      <td>90272859</td>\n",
       "      <td>No</td>\n",
       "      <td>Female</td>\n",
       "      <td>53</td>\n",
       "      <td>Us</td>\n",
       "      <td>Wa</td>\n",
       "      <td>MEH</td>\n",
       "      <td>DESPAIR</td>\n",
       "      <td>JOY</td>\n",
       "      <td>MEH</td>\n",
       "      <td>...</td>\n",
       "      <td>NaN</td>\n",
       "      <td>NaN</td>\n",
       "      <td>White and gold</td>\n",
       "      <td>NaN</td>\n",
       "      <td>Sunday</td>\n",
       "      <td>NaN</td>\n",
       "      <td>1.0</td>\n",
       "      <td>NaN</td>\n",
       "      <td>NaN</td>\n",
       "      <td>(70, 28)</td>\n",
       "    </tr>\n",
       "  </tbody>\n",
       "</table>\n",
       "<p>10 rows × 120 columns</p>\n",
       "</div>"
      ],
      "text/plain": [
       "   Internal ID Q1: GOING OUT? Q2: GENDER Q3: AGE Q4: COUNTRY  \\\n",
       "0     90258773            NaN        NaN     NaN         NaN   \n",
       "1     90272821             No       Male      44        USA    \n",
       "2     90272829            NaN       Male      49         USA   \n",
       "3     90272840             No       Male      40          us   \n",
       "4     90272841             No       Male      23         usa   \n",
       "5     90272852             No       Male     NaN         NaN   \n",
       "6     90272853             No       Male      53         usa   \n",
       "7     90272854             No       Male      33      canada   \n",
       "8     90272858             No       Male      40      Canada   \n",
       "9     90272859             No     Female      53          Us   \n",
       "\n",
       "  Q5: STATE, PROVINCE, COUNTY, ETC Q6 | 100 Grand Bar  \\\n",
       "0                              NaN                NaN   \n",
       "1                               NM                MEH   \n",
       "2                         Virginia                NaN   \n",
       "3                               or                MEH   \n",
       "4                         exton pa                JOY   \n",
       "5                              NaN                JOY   \n",
       "6                        Colorado                 NaN   \n",
       "7                          ontario                JOY   \n",
       "8                          Ontario                JOY   \n",
       "9                               Wa                MEH   \n",
       "\n",
       "  Q6 | Anonymous brown globs that come in black and orange wrappers\\t(a.k.a. Mary Janes)  \\\n",
       "0                                                NaN                                       \n",
       "1                                            DESPAIR                                       \n",
       "2                                                NaN                                       \n",
       "3                                            DESPAIR                                       \n",
       "4                                            DESPAIR                                       \n",
       "5                                            DESPAIR                                       \n",
       "6                                                NaN                                       \n",
       "7                                            DESPAIR                                       \n",
       "8                                            DESPAIR                                       \n",
       "9                                            DESPAIR                                       \n",
       "\n",
       "  Q6 | Any full-sized candy bar Q6 | Black Jacks  ...  \\\n",
       "0                           NaN              NaN  ...   \n",
       "1                           JOY              MEH  ...   \n",
       "2                           NaN              NaN  ...   \n",
       "3                           JOY              MEH  ...   \n",
       "4                           JOY          DESPAIR  ...   \n",
       "5                           JOY              NaN  ...   \n",
       "6                           NaN              NaN  ...   \n",
       "7                           JOY          DESPAIR  ...   \n",
       "8                           JOY              MEH  ...   \n",
       "9                           JOY              MEH  ...   \n",
       "\n",
       "                                   Q8: DESPAIR OTHER  \\\n",
       "0                                                NaN   \n",
       "1                                                NaN   \n",
       "2                                                NaN   \n",
       "3                                                NaN   \n",
       "4                                                NaN   \n",
       "5                                                NaN   \n",
       "6                                                NaN   \n",
       "7  when the little kids get the big chocolate bar...   \n",
       "8                                                NaN   \n",
       "9                                                NaN   \n",
       "\n",
       "                                  Q9: OTHER COMMENTS      Q10: DRESS  \\\n",
       "0                                                NaN             NaN   \n",
       "1  Bottom line is Twix is really the only candy w...  White and gold   \n",
       "2                                                NaN             NaN   \n",
       "3                             Raisins can go to hell  White and gold   \n",
       "4                                                NaN  White and gold   \n",
       "5                                                NaN             NaN   \n",
       "6                                                NaN             NaN   \n",
       "7        first person to give out cans of beer, wins  Blue and black   \n",
       "8                                                NaN  Blue and black   \n",
       "9                                                NaN  White and gold   \n",
       "\n",
       "  Unnamed: 113 Q11: DAY Q12: MEDIA [Daily Dish] Q12: MEDIA [Science]  \\\n",
       "0          NaN      NaN                     NaN                  NaN   \n",
       "1          NaN   Sunday                     NaN                  1.0   \n",
       "2          NaN      NaN                     NaN                  NaN   \n",
       "3          NaN   Sunday                     NaN                  1.0   \n",
       "4          NaN   Friday                     NaN                  1.0   \n",
       "5          NaN      NaN                     NaN                  1.0   \n",
       "6          NaN      NaN                     NaN                  NaN   \n",
       "7          NaN   Friday                     NaN                  1.0   \n",
       "8          NaN   Sunday                     NaN                  1.0   \n",
       "9          NaN   Sunday                     NaN                  1.0   \n",
       "\n",
       "  Q12: MEDIA [ESPN] Q12: MEDIA [Yahoo] Click Coordinates (x, y)  \n",
       "0               NaN                NaN                      NaN  \n",
       "1               NaN                NaN                 (84, 25)  \n",
       "2               NaN                NaN                      NaN  \n",
       "3               NaN                NaN                 (75, 23)  \n",
       "4               NaN                NaN                 (70, 10)  \n",
       "5               NaN                NaN                 (75, 23)  \n",
       "6               NaN                NaN                      NaN  \n",
       "7               NaN                NaN                  (55, 5)  \n",
       "8               NaN                NaN                 (76, 24)  \n",
       "9               NaN                NaN                 (70, 28)  \n",
       "\n",
       "[10 rows x 120 columns]"
      ]
     },
     "execution_count": 3,
     "metadata": {},
     "output_type": "execute_result"
    }
   ],
   "source": [
    "Candy.head(10)"
   ]
  },
  {
   "cell_type": "code",
   "execution_count": 4,
   "id": "cc73a826",
   "metadata": {},
   "outputs": [
    {
     "data": {
      "text/plain": [
       "(2460, 120)"
      ]
     },
     "execution_count": 4,
     "metadata": {},
     "output_type": "execute_result"
    }
   ],
   "source": [
    "Candy.shape"
   ]
  },
  {
   "cell_type": "code",
   "execution_count": 5,
   "id": "96e95c1e",
   "metadata": {},
   "outputs": [
    {
     "name": "stdout",
     "output_type": "stream",
     "text": [
      "<class 'pandas.core.frame.DataFrame'>\n",
      "RangeIndex: 2460 entries, 0 to 2459\n",
      "Columns: 120 entries, Internal ID to Click Coordinates (x, y)\n",
      "dtypes: float64(4), int64(1), object(115)\n",
      "memory usage: 2.3+ MB\n"
     ]
    }
   ],
   "source": [
    "Candy.info()"
   ]
  },
  {
   "cell_type": "code",
   "execution_count": 6,
   "id": "aa96499d",
   "metadata": {},
   "outputs": [
    {
     "data": {
      "text/plain": [
       "Internal ID                   int64\n",
       "Q1: GOING OUT?               object\n",
       "Q2: GENDER                   object\n",
       "Q3: AGE                      object\n",
       "Q4: COUNTRY                  object\n",
       "                             ...   \n",
       "Q12: MEDIA [Daily Dish]     float64\n",
       "Q12: MEDIA [Science]        float64\n",
       "Q12: MEDIA [ESPN]           float64\n",
       "Q12: MEDIA [Yahoo]          float64\n",
       "Click Coordinates (x, y)     object\n",
       "Length: 120, dtype: object"
      ]
     },
     "execution_count": 6,
     "metadata": {},
     "output_type": "execute_result"
    }
   ],
   "source": [
    "Candy.dtypes"
   ]
  },
  {
   "cell_type": "code",
   "execution_count": 7,
   "id": "ccbc137d",
   "metadata": {},
   "outputs": [],
   "source": [
    "Candy= Candy.rename(columns={'Q1: GOING OUT?':'Going out','Q2: GENDER':'Gender','Q3: AGE':'Age','Q4: COUNTRY':'Country','Q5: STATE':'State','Q10: DRESS':'Dress','Q11: DAY':'Day'})"
   ]
  },
  {
   "cell_type": "markdown",
   "id": "fea7c51d",
   "metadata": {},
   "source": [
    "  "
   ]
  },
  {
   "cell_type": "markdown",
   "id": "15733ceb",
   "metadata": {},
   "source": [
    "- ## Data Cleaning :"
   ]
  },
  {
   "cell_type": "markdown",
   "id": "d99ab3c2",
   "metadata": {},
   "source": [
    "### 1.Going Out?"
   ]
  },
  {
   "cell_type": "code",
   "execution_count": 8,
   "id": "785a529a",
   "metadata": {},
   "outputs": [
    {
     "data": {
      "text/plain": [
       "dtype('O')"
      ]
     },
     "execution_count": 8,
     "metadata": {},
     "output_type": "execute_result"
    }
   ],
   "source": [
    "Candy['Going out'].dtypes"
   ]
  },
  {
   "cell_type": "code",
   "execution_count": 9,
   "id": "04692d42",
   "metadata": {},
   "outputs": [
    {
     "data": {
      "text/plain": [
       "0    NaN\n",
       "1     No\n",
       "2    NaN\n",
       "3     No\n",
       "4     No\n",
       "Name: Going out, dtype: object"
      ]
     },
     "execution_count": 9,
     "metadata": {},
     "output_type": "execute_result"
    }
   ],
   "source": [
    "Candy['Going out'].head()"
   ]
  },
  {
   "cell_type": "code",
   "execution_count": 10,
   "id": "52475bc4",
   "metadata": {},
   "outputs": [
    {
     "data": {
      "text/plain": [
       "array([nan, 'No', 'Yes'], dtype=object)"
      ]
     },
     "execution_count": 10,
     "metadata": {},
     "output_type": "execute_result"
    }
   ],
   "source": [
    "Candy['Going out'].unique()"
   ]
  },
  {
   "cell_type": "code",
   "execution_count": 11,
   "id": "38c529b8",
   "metadata": {},
   "outputs": [
    {
     "data": {
      "text/plain": [
       "count     2350\n",
       "unique       2\n",
       "top         No\n",
       "freq      2038\n",
       "Name: Going out, dtype: object"
      ]
     },
     "execution_count": 11,
     "metadata": {},
     "output_type": "execute_result"
    }
   ],
   "source": [
    "Candy['Going out'].describe()"
   ]
  },
  {
   "cell_type": "code",
   "execution_count": 12,
   "id": "b16a5db7",
   "metadata": {},
   "outputs": [
    {
     "data": {
      "text/plain": [
       "110"
      ]
     },
     "execution_count": 12,
     "metadata": {},
     "output_type": "execute_result"
    }
   ],
   "source": [
    "Candy['Going out'].isna().sum()"
   ]
  },
  {
   "cell_type": "markdown",
   "id": "50ee1e72",
   "metadata": {},
   "source": [
    "The data has 2460 column, There is only 110 NAN values in [Going out] column, so we can drop missing values."
   ]
  },
  {
   "cell_type": "code",
   "execution_count": 13,
   "id": "9a8ba234",
   "metadata": {},
   "outputs": [],
   "source": [
    "Candy = Candy.dropna(subset = ['Going out'])"
   ]
  },
  {
   "cell_type": "code",
   "execution_count": 14,
   "id": "b9d8886f",
   "metadata": {},
   "outputs": [],
   "source": [
    "assert Candy['Going out'].isna().sum()== 0"
   ]
  },
  {
   "cell_type": "markdown",
   "id": "226c0e54",
   "metadata": {},
   "source": [
    "There is not still any NAN values."
   ]
  },
  {
   "cell_type": "code",
   "execution_count": 15,
   "id": "148edb4c",
   "metadata": {},
   "outputs": [
    {
     "data": {
      "text/plain": [
       "count     2350\n",
       "unique       2\n",
       "top         No\n",
       "freq      2038\n",
       "Name: Going out, dtype: object"
      ]
     },
     "execution_count": 15,
     "metadata": {},
     "output_type": "execute_result"
    }
   ],
   "source": [
    "Candy['Going out'].describe()"
   ]
  },
  {
   "cell_type": "code",
   "execution_count": 16,
   "id": "fa69b9dd",
   "metadata": {},
   "outputs": [
    {
     "data": {
      "text/plain": [
       "array(['No', 'Yes'], dtype=object)"
      ]
     },
     "execution_count": 16,
     "metadata": {},
     "output_type": "execute_result"
    }
   ],
   "source": [
    "Candy['Going out'].unique()"
   ]
  },
  {
   "cell_type": "code",
   "execution_count": 17,
   "id": "62af04c5",
   "metadata": {},
   "outputs": [
    {
     "data": {
      "text/plain": [
       "No     2038\n",
       "Yes     312\n",
       "Name: Going out, dtype: int64"
      ]
     },
     "execution_count": 17,
     "metadata": {},
     "output_type": "execute_result"
    }
   ],
   "source": [
    "Candy['Going out'].value_counts()"
   ]
  },
  {
   "cell_type": "code",
   "execution_count": 18,
   "id": "9bf77946",
   "metadata": {},
   "outputs": [
    {
     "data": {
      "image/png": "[encoded data removed]",
      "text/plain": [
       "<Figure size 640x480 with 1 Axes>"
      ]
     },
     "metadata": {},
     "output_type": "display_data"
    }
   ],
   "source": [
    "Candy['Going out'].value_counts().plot.pie(explode=[0,0.1],autopct='%1.1f%%',shadow=False)\n",
    "plt.title('GOING OUT?')\n",
    "plt.show()"
   ]
  },
  {
   "cell_type": "markdown",
   "id": "15622d26",
   "metadata": {},
   "source": [
    "There is 86.7% people not going to trick or treat."
   ]
  },
  {
   "cell_type": "markdown",
   "id": "4add296a",
   "metadata": {},
   "source": [
    "  "
   ]
  },
  {
   "cell_type": "markdown",
   "id": "ea5dbef2",
   "metadata": {},
   "source": [
    "### 2. Gender :"
   ]
  },
  {
   "cell_type": "code",
   "execution_count": 19,
   "id": "673b1786",
   "metadata": {},
   "outputs": [
    {
     "data": {
      "text/plain": [
       "1    Male\n",
       "3    Male\n",
       "4    Male\n",
       "5    Male\n",
       "6    Male\n",
       "Name: Gender, dtype: object"
      ]
     },
     "execution_count": 19,
     "metadata": {},
     "output_type": "execute_result"
    }
   ],
   "source": [
    "Candy['Gender'].head()"
   ]
  },
  {
   "cell_type": "code",
   "execution_count": 20,
   "id": "dac93572",
   "metadata": {},
   "outputs": [
    {
     "data": {
      "text/plain": [
       "array(['Male', 'Female', \"I'd rather not say\", nan, 'Other'], dtype=object)"
      ]
     },
     "execution_count": 20,
     "metadata": {},
     "output_type": "execute_result"
    }
   ],
   "source": [
    "Candy['Gender'].unique()"
   ]
  },
  {
   "cell_type": "code",
   "execution_count": 21,
   "id": "eaf8c7e5",
   "metadata": {},
   "outputs": [
    {
     "data": {
      "text/plain": [
       "count     2336\n",
       "unique       4\n",
       "top       Male\n",
       "freq      1404\n",
       "Name: Gender, dtype: object"
      ]
     },
     "execution_count": 21,
     "metadata": {},
     "output_type": "execute_result"
    }
   ],
   "source": [
    "Candy['Gender'].describe()"
   ]
  },
  {
   "cell_type": "code",
   "execution_count": 22,
   "id": "de608711",
   "metadata": {},
   "outputs": [
    {
     "data": {
      "text/plain": [
       "14"
      ]
     },
     "execution_count": 22,
     "metadata": {},
     "output_type": "execute_result"
    }
   ],
   "source": [
    "Candy['Gender'].isna().sum()"
   ]
  },
  {
   "cell_type": "markdown",
   "id": "84819032",
   "metadata": {},
   "source": [
    "The data has 2336 column, There is only 14 NAN values in [Going out] column, so we can drop missing values."
   ]
  },
  {
   "cell_type": "code",
   "execution_count": 23,
   "id": "bea2f3bd",
   "metadata": {},
   "outputs": [],
   "source": [
    "Candy = Candy.dropna(subset = ['Gender'])"
   ]
  },
  {
   "cell_type": "code",
   "execution_count": 24,
   "id": "c3e5e87f",
   "metadata": {},
   "outputs": [],
   "source": [
    "assert Candy['Going out'].isna().sum()== 0"
   ]
  },
  {
   "cell_type": "code",
   "execution_count": 25,
   "id": "dc13586c",
   "metadata": {},
   "outputs": [
    {
     "data": {
      "text/plain": [
       "Male                  1404\n",
       "Female                 825\n",
       "I'd rather not say      78\n",
       "Other                   29\n",
       "Name: Gender, dtype: int64"
      ]
     },
     "execution_count": 25,
     "metadata": {},
     "output_type": "execute_result"
    }
   ],
   "source": [
    "Candy['Gender'].value_counts()"
   ]
  },
  {
   "cell_type": "code",
   "execution_count": 26,
   "id": "e82dad48",
   "metadata": {},
   "outputs": [
    {
     "data": {
      "text/plain": [
       "<AxesSubplot:xlabel='Gender', ylabel='count'>"
      ]
     },
     "execution_count": 26,
     "metadata": {},
     "output_type": "execute_result"
    },
    {
     "data": {
      "image/png": "[encoded data removed]",
      "text/plain": [
       "<Figure size 640x480 with 1 Axes>"
      ]
     },
     "metadata": {},
     "output_type": "display_data"
    }
   ],
   "source": [
    "sns.countplot(x='Gender', data=Candy)"
   ]
  },
  {
   "cell_type": "markdown",
   "id": "1acde35f",
   "metadata": {},
   "source": [
    "More than 50% of data are males👨 ."
   ]
  },
  {
   "cell_type": "markdown",
   "id": "f418dc96",
   "metadata": {},
   "source": [
    "  "
   ]
  },
  {
   "cell_type": "markdown",
   "id": "9ef5e2be",
   "metadata": {},
   "source": [
    "### 3. AGE :"
   ]
  },
  {
   "cell_type": "code",
   "execution_count": 27,
   "id": "20a20ef8",
   "metadata": {},
   "outputs": [
    {
     "data": {
      "text/plain": [
       "1     44\n",
       "3     40\n",
       "4     23\n",
       "5    NaN\n",
       "6     53\n",
       "Name: Age, dtype: object"
      ]
     },
     "execution_count": 27,
     "metadata": {},
     "output_type": "execute_result"
    }
   ],
   "source": [
    "Candy['Age'].head()"
   ]
  },
  {
   "cell_type": "code",
   "execution_count": 28,
   "id": "5120e049",
   "metadata": {},
   "outputs": [
    {
     "data": {
      "text/plain": [
       "49"
      ]
     },
     "execution_count": 28,
     "metadata": {},
     "output_type": "execute_result"
    }
   ],
   "source": [
    "Candy['Age'].isna().sum()"
   ]
  },
  {
   "cell_type": "code",
   "execution_count": 29,
   "id": "305cf648",
   "metadata": {},
   "outputs": [
    {
     "data": {
      "text/plain": [
       "array([44, 40, 23, nan, 53, 33, 43, 56, 64, 37, 59, 48, 54, 36, 45, 49,\n",
       "       25, 34, 35, 38, 58, 50, 47, 16, 52, 63, 41, 27, 61, 46, 42, 62, 29,\n",
       "       39, 32, 31, 28, 69, 67, 22, 26, 51, 70, 24, 18, 19, 'Old enough',\n",
       "       57, 60, 66, 12, 30, 'Many', 65, 55, 72, '?', 21, 11, 'no', 9, 68,\n",
       "       20, 6, 10, 71, 90, 13, '45-55', 312, 99, 7, 'hahahahaha', 88, 39.4,\n",
       "       74, 102, 'older than dirt', 17, 15, 8, 75, '5u', 'Enough',\n",
       "       'See question 2', '24-50', 14, 'Over 50', 100, 76, 1000,\n",
       "       'sixty-nine', '46 Halloweens.', 'ancient', 77, 'OLD', 'old', 73,\n",
       "       70.5, 1, 'MY NAME JEFF', 4, '59 on the day after Halloween',\n",
       "       'old enough', 'your mom',\n",
       "       'I can remember when Java was a cool new language', '60+'],\n",
       "      dtype=object)"
      ]
     },
     "execution_count": 29,
     "metadata": {},
     "output_type": "execute_result"
    }
   ],
   "source": [
    "Candy['Age'].unique()"
   ]
  },
  {
   "cell_type": "code",
   "execution_count": 30,
   "id": "92298354",
   "metadata": {},
   "outputs": [],
   "source": [
    "Candy['Age']= pd.to_numeric(Candy['Age'],errors='coerce')"
   ]
  },
  {
   "cell_type": "code",
   "execution_count": 31,
   "id": "322a120a",
   "metadata": {},
   "outputs": [
    {
     "data": {
      "text/plain": [
       "array([  44. ,   40. ,   23. ,    nan,   53. ,   33. ,   43. ,   56. ,\n",
       "         64. ,   37. ,   59. ,   48. ,   54. ,   36. ,   45. ,   49. ,\n",
       "         25. ,   34. ,   35. ,   38. ,   58. ,   50. ,   47. ,   16. ,\n",
       "         52. ,   63. ,   41. ,   27. ,   61. ,   46. ,   42. ,   62. ,\n",
       "         29. ,   39. ,   32. ,   31. ,   28. ,   69. ,   67. ,   22. ,\n",
       "         26. ,   51. ,   70. ,   24. ,   18. ,   19. ,   57. ,   60. ,\n",
       "         66. ,   12. ,   30. ,   65. ,   55. ,   72. ,   21. ,   11. ,\n",
       "          9. ,   68. ,   20. ,    6. ,   10. ,   71. ,   90. ,   13. ,\n",
       "        312. ,   99. ,    7. ,   88. ,   39.4,   74. ,  102. ,   17. ,\n",
       "         15. ,    8. ,   75. ,   14. ,  100. ,   76. , 1000. ,   77. ,\n",
       "         73. ,   70.5,    1. ,    4. ])"
      ]
     },
     "execution_count": 31,
     "metadata": {},
     "output_type": "execute_result"
    }
   ],
   "source": [
    "Candy['Age'].unique()"
   ]
  },
  {
   "cell_type": "code",
   "execution_count": 32,
   "id": "f79fd2c3",
   "metadata": {},
   "outputs": [
    {
     "data": {
      "text/plain": [
       "73"
      ]
     },
     "execution_count": 32,
     "metadata": {},
     "output_type": "execute_result"
    }
   ],
   "source": [
    "Candy['Age'].isna().sum()"
   ]
  },
  {
   "cell_type": "code",
   "execution_count": 33,
   "id": "c2b5366f",
   "metadata": {},
   "outputs": [],
   "source": [
    "Candy['Age']=Candy['Age'].fillna(0)"
   ]
  },
  {
   "cell_type": "code",
   "execution_count": 34,
   "id": "94f5181b",
   "metadata": {},
   "outputs": [
    {
     "data": {
      "text/plain": [
       "count    2336.00000\n",
       "mean       41.29405\n",
       "std        24.92591\n",
       "min         0.00000\n",
       "25%        34.00000\n",
       "50%        41.00000\n",
       "75%        49.00000\n",
       "max      1000.00000\n",
       "Name: Age, dtype: float64"
      ]
     },
     "execution_count": 34,
     "metadata": {},
     "output_type": "execute_result"
    }
   ],
   "source": [
    "Candy['Age'].describe()"
   ]
  },
  {
   "cell_type": "markdown",
   "id": "30ead572",
   "metadata": {},
   "source": [
    " The mean and the median of the data are approximately same so we can replace NAN of any of them 😀."
   ]
  },
  {
   "cell_type": "code",
   "execution_count": 35,
   "id": "e74ddb2f",
   "metadata": {},
   "outputs": [
    {
     "data": {
      "text/plain": [
       "<AxesSubplot:title={'center':'Age'}>"
      ]
     },
     "execution_count": 35,
     "metadata": {},
     "output_type": "execute_result"
    },
    {
     "data": {
      "image/png": "[encoded data removed]",
      "text/plain": [
       "<Figure size 640x480 with 1 Axes>"
      ]
     },
     "metadata": {},
     "output_type": "display_data"
    }
   ],
   "source": [
    "Candy['Age'].plot(kind='box',title='Age')"
   ]
  },
  {
   "cell_type": "markdown",
   "id": "c2640c51",
   "metadata": {},
   "source": [
    "There is many outliers in our data ."
   ]
  },
  {
   "cell_type": "code",
   "execution_count": 36,
   "id": "29b4c27b",
   "metadata": {},
   "outputs": [],
   "source": [
    "Candy.loc[Candy['Age']>80, 'Age']=Candy['Age'].mean()\n",
    "Candy.loc[Candy['Age']<18, 'Age']=Candy['Age'].mean()"
   ]
  },
  {
   "cell_type": "code",
   "execution_count": 37,
   "id": "aa205115",
   "metadata": {},
   "outputs": [
    {
     "data": {
      "text/plain": [
       "<AxesSubplot:title={'center':'Age'}>"
      ]
     },
     "execution_count": 37,
     "metadata": {},
     "output_type": "execute_result"
    },
    {
     "data": {
      "image/png": "[encoded data removed]",
      "text/plain": [
       "<Figure size 640x480 with 1 Axes>"
      ]
     },
     "metadata": {},
     "output_type": "display_data"
    }
   ],
   "source": [
    "Candy['Age'].plot(kind='box',title='Age')"
   ]
  },
  {
   "cell_type": "code",
   "execution_count": 38,
   "id": "da696264",
   "metadata": {},
   "outputs": [
    {
     "data": {
      "text/plain": [
       "count    2336.000000\n",
       "mean       42.524739\n",
       "std        10.616690\n",
       "min        18.000000\n",
       "25%        35.000000\n",
       "50%        41.000000\n",
       "75%        49.000000\n",
       "max        77.000000\n",
       "Name: Age, dtype: float64"
      ]
     },
     "execution_count": 38,
     "metadata": {},
     "output_type": "execute_result"
    }
   ],
   "source": [
    "Candy['Age'].describe()"
   ]
  },
  {
   "cell_type": "code",
   "execution_count": 39,
   "id": "44cb0a95",
   "metadata": {},
   "outputs": [],
   "source": [
    "Candy['Age']=Candy['Age'].astype('int')"
   ]
  },
  {
   "cell_type": "code",
   "execution_count": 40,
   "id": "6a30e360",
   "metadata": {},
   "outputs": [
    {
     "data": {
      "text/plain": [
       "dtype('int32')"
      ]
     },
     "execution_count": 40,
     "metadata": {},
     "output_type": "execute_result"
    }
   ],
   "source": [
    "Candy['Age'].dtype"
   ]
  },
  {
   "cell_type": "code",
   "execution_count": 41,
   "id": "b20853b4",
   "metadata": {},
   "outputs": [
    {
     "data": {
      "text/plain": [
       "array([44, 40, 23, 53, 33, 43, 56, 64, 37, 59, 48, 54, 36, 45, 49, 25, 34,\n",
       "       35, 38, 58, 50, 47, 52, 63, 41, 27, 61, 46, 42, 62, 29, 39, 32, 31,\n",
       "       28, 69, 67, 22, 26, 51, 70, 24, 18, 19, 57, 60, 66, 30, 65, 55, 72,\n",
       "       21, 68, 20, 71, 74, 75, 76, 77, 73])"
      ]
     },
     "execution_count": 41,
     "metadata": {},
     "output_type": "execute_result"
    }
   ],
   "source": [
    "Candy['Age'].unique()"
   ]
  },
  {
   "cell_type": "code",
   "execution_count": 42,
   "id": "92940ac0",
   "metadata": {},
   "outputs": [
    {
     "data": {
      "text/plain": [
       "77"
      ]
     },
     "execution_count": 42,
     "metadata": {},
     "output_type": "execute_result"
    }
   ],
   "source": [
    "Candy['Age'].max()"
   ]
  },
  {
   "cell_type": "code",
   "execution_count": 43,
   "id": "a358679d",
   "metadata": {},
   "outputs": [
    {
     "data": {
      "text/plain": [
       "0"
      ]
     },
     "execution_count": 43,
     "metadata": {},
     "output_type": "execute_result"
    }
   ],
   "source": [
    "Candy['Age'].isna().sum()"
   ]
  },
  {
   "cell_type": "code",
   "execution_count": 44,
   "id": "0fb66ff8",
   "metadata": {},
   "outputs": [
    {
     "name": "stderr",
     "output_type": "stream",
     "text": [
      "C:\\Users\\menat\\anaconda3\\lib\\site-packages\\seaborn\\distributions.py:2619: FutureWarning: `distplot` is a deprecated function and will be removed in a future version. Please adapt your code to use either `displot` (a figure-level function with similar flexibility) or `histplot` (an axes-level function for histograms).\n",
      "  warnings.warn(msg, FutureWarning)\n"
     ]
    },
    {
     "data": {
      "text/plain": [
       "<AxesSubplot:xlabel='Age', ylabel='Density'>"
      ]
     },
     "execution_count": 44,
     "metadata": {},
     "output_type": "execute_result"
    },
    {
     "data": {
      "image/png": "[encoded data removed]",
      "text/plain": [
       "<Figure size 640x480 with 1 Axes>"
      ]
     },
     "metadata": {},
     "output_type": "display_data"
    }
   ],
   "source": [
    "sns.distplot(Candy['Age'])"
   ]
  },
  {
   "cell_type": "markdown",
   "id": "ca0a7804",
   "metadata": {},
   "source": [
    "The Range of Ages are between 18 and 77 🤓."
   ]
  },
  {
   "cell_type": "markdown",
   "id": "3dff7654",
   "metadata": {},
   "source": [
    "  "
   ]
  },
  {
   "cell_type": "markdown",
   "id": "e8318554",
   "metadata": {},
   "source": [
    "### 4.COUNTRY :"
   ]
  },
  {
   "cell_type": "code",
   "execution_count": 45,
   "id": "78ca9740",
   "metadata": {},
   "outputs": [
    {
     "data": {
      "text/plain": [
       "1    USA \n",
       "3      us\n",
       "4     usa\n",
       "5     NaN\n",
       "6     usa\n",
       "Name: Country, dtype: object"
      ]
     },
     "execution_count": 45,
     "metadata": {},
     "output_type": "execute_result"
    }
   ],
   "source": [
    "Candy['Country'].head()"
   ]
  },
  {
   "cell_type": "code",
   "execution_count": 46,
   "id": "613797e6",
   "metadata": {},
   "outputs": [
    {
     "data": {
      "text/plain": [
       "array(['USA ', 'us', 'usa', nan, 'canada', 'Canada', 'Us', 'US', 'Murica',\n",
       "       'USA', 'United States', 'uk', 'United Kingdom', 'united states',\n",
       "       'Usa', 'United States ', 'United staes',\n",
       "       'United States of America', 'UAE', 'England', 'UK', 'Mexico',\n",
       "       'United states', 'u.s.a.', 'USAUSAUSA', 'america', 35, 'france',\n",
       "       'United States of America ', 'U.S.A.', 'finland',\n",
       "       'unhinged states', 'Canada ', 'united states of america',\n",
       "       'US of A', 'Unites States', 'The United States', 'North Carolina ',\n",
       "       'Unied States', 'Netherlands', 'germany', 'Europe', 'Earth', 'U S',\n",
       "       'u.s.', 'U.K. ', 'Costa Rica', 'The United States of America',\n",
       "       'unite states', 'U.S.', 46, 'Australia', 'insanity lately',\n",
       "       'Greece', 'USA? Hard to tell anymore..', \"'merica\", 'usas',\n",
       "       'Pittsburgh', 45, 'United State', 32, 'France', 'australia', 'A',\n",
       "       'Can', 'Canae', 'Trumpistan', 'Ireland', 'United Sates', 'Korea',\n",
       "       'California', 'Japan', 'USa', 'South africa',\n",
       "       'I pretend to be from Canada, but I am really from the United States.',\n",
       "       'Usa ', 'Uk', 'Iceland', 'Germany', 'Scotland', 'UK ', 'Denmark',\n",
       "       'United Stated', 'France ', 'Switzerland', 'Ahem....Amerca', 'UD',\n",
       "       'Scotland ', 'New Jersey', 'CANADA', 'Indonesia', 'America',\n",
       "       'The Netherlands', 'United Statss', 'endland', 'Atlantis',\n",
       "       'murrika', 'USA! USA! USA!', 'USAA', 'Alaska', 'united States ',\n",
       "       'soviet canuckistan', 'N. America', 'Singapore', 'USSA', 'China',\n",
       "       'Taiwan', 'Ireland ', 'hong kong', 'spain', 'Sweden', 'Hong Kong',\n",
       "       'U.S. ', 'Narnia', 'u s a', 'United Statea', 'united ststes', 1,\n",
       "       'subscribe to dm4uz3 on youtube', 'United kingdom',\n",
       "       'USA USA USA!!!!', \"I don't know anymore\", 'Fear and Loathing'],\n",
       "      dtype=object)"
      ]
     },
     "execution_count": 46,
     "metadata": {},
     "output_type": "execute_result"
    }
   ],
   "source": [
    "Candy['Country'].unique()"
   ]
  },
  {
   "cell_type": "markdown",
   "id": "22c88278",
   "metadata": {},
   "source": [
    "Their is an inconsistency in our data 😥."
   ]
  },
  {
   "cell_type": "code",
   "execution_count": 47,
   "id": "421ca13e",
   "metadata": {},
   "outputs": [],
   "source": [
    "Candy['Country'] = Candy['Country'].str.lower()"
   ]
  },
  {
   "cell_type": "code",
   "execution_count": 48,
   "id": "299b744d",
   "metadata": {},
   "outputs": [
    {
     "data": {
      "text/plain": [
       "usa                                                                     1015\n",
       "united states                                                            535\n",
       "canada                                                                   206\n",
       "us                                                                       175\n",
       "usa                                                                       70\n",
       "                                                                        ... \n",
       "korea                                                                      1\n",
       "california                                                                 1\n",
       "south africa                                                               1\n",
       "i pretend to be from canada, but i am really from the united states.       1\n",
       "fear and loathing                                                          1\n",
       "Name: Country, Length: 95, dtype: int64"
      ]
     },
     "execution_count": 48,
     "metadata": {},
     "output_type": "execute_result"
    }
   ],
   "source": [
    "Candy['Country'].value_counts()"
   ]
  },
  {
   "cell_type": "code",
   "execution_count": 49,
   "id": "85be017a",
   "metadata": {},
   "outputs": [],
   "source": [
    "Candy['Country']=Candy['Country'].astype('category')"
   ]
  },
  {
   "cell_type": "code",
   "execution_count": 50,
   "id": "6cadb0ce",
   "metadata": {},
   "outputs": [
    {
     "data": {
      "text/plain": [
       "CategoricalDtype(categories=[''merica', 'a', 'ahem....amerca', 'alaska', 'america',\n",
       "                  'atlantis', 'australia', 'california', 'can', 'canada',\n",
       "                  'canada ', 'canae', 'china', 'costa rica', 'denmark',\n",
       "                  'earth', 'endland', 'england', 'europe', 'fear and loathing',\n",
       "                  'finland', 'france', 'france ', 'germany', 'greece',\n",
       "                  'hong kong', 'i don't know anymore',\n",
       "                  'i pretend to be from canada, but i am really from the united states.',\n",
       "                  'iceland', 'indonesia', 'insanity lately', 'ireland',\n",
       "                  'ireland ', 'japan', 'korea', 'mexico', 'murica', 'murrika',\n",
       "                  'n. america', 'narnia', 'netherlands', 'new jersey',\n",
       "                  'north carolina ', 'pittsburgh', 'scotland', 'scotland ',\n",
       "                  'singapore', 'south africa', 'soviet canuckistan', 'spain',\n",
       "                  'subscribe to dm4uz3 on youtube', 'sweden', 'switzerland',\n",
       "                  'taiwan', 'the netherlands', 'the united states',\n",
       "                  'the united states of america', 'trumpistan', 'u s', 'u s a',\n",
       "                  'u.k. ', 'u.s.', 'u.s. ', 'u.s.a.', 'uae', 'ud', 'uk', 'uk ',\n",
       "                  'unhinged states', 'unied states', 'unite states',\n",
       "                  'united kingdom', 'united sates', 'united staes',\n",
       "                  'united state', 'united statea', 'united stated',\n",
       "                  'united states', 'united states ',\n",
       "                  'united states of america', 'united states of america ',\n",
       "                  'united statss', 'united ststes', 'unites states', 'us',\n",
       "                  'us of a', 'usa', 'usa ', 'usa usa usa!!!!',\n",
       "                  'usa! usa! usa!', 'usa? hard to tell anymore..', 'usaa',\n",
       "                  'usas', 'usausausa', 'ussa'],\n",
       ", ordered=False)"
      ]
     },
     "execution_count": 50,
     "metadata": {},
     "output_type": "execute_result"
    }
   ],
   "source": [
    "Candy['Country'].dtype"
   ]
  },
  {
   "cell_type": "code",
   "execution_count": 51,
   "id": "86ce16b1",
   "metadata": {},
   "outputs": [
    {
     "name": "stderr",
     "output_type": "stream",
     "text": [
      "C:\\Users\\menat\\AppData\\Local\\Temp\\ipykernel_12796\\2156515248.py:2: FutureWarning: The default value of regex will change from True to False in a future version. In addition, single character regular expressions will *not* be treated as literal strings when regex=True.\n",
      "  Candy['Country']= Candy['Country'].str.replace('.','')\n"
     ]
    }
   ],
   "source": [
    "Candy['Country']= Candy['Country'].str.strip()\n",
    "Candy['Country']= Candy['Country'].str.replace('.','')\n",
    "Candy['Country']= Candy['Country'].str.replace(' ','')"
   ]
  },
  {
   "cell_type": "code",
   "execution_count": 52,
   "id": "50940108",
   "metadata": {},
   "outputs": [],
   "source": [
    "Candy['Country'] = Candy['Country'].replace({'usa':'unitedstates','us':'unitedstates','unitedstaes':'unitedstates','unitedsates':'unitedstates','united states':'unitedstates','unitedstatesofamerica':'unitedstates','uk':'unitedkingdom','unitedstate':'unitedstates'})"
   ]
  },
  {
   "cell_type": "code",
   "execution_count": 53,
   "id": "0831fab8",
   "metadata": {},
   "outputs": [
    {
     "data": {
      "text/plain": [
       "array(['unitedstates', nan, 'canada', 'murica', 'unitedkingdom', 'uae',\n",
       "       'england', 'mexico', 'usausausa', 'america', 'france', 'finland',\n",
       "       'unhingedstates', 'usofa', 'unitesstates', 'theunitedstates',\n",
       "       'northcarolina', 'uniedstates', 'netherlands', 'germany', 'europe',\n",
       "       'earth', 'costarica', 'theunitedstatesofamerica', 'unitestates',\n",
       "       'australia', 'insanitylately', 'greece', 'usa?hardtotellanymore',\n",
       "       \"'merica\", 'usas', 'pittsburgh', 'a', 'can', 'canae', 'trumpistan',\n",
       "       'ireland', 'korea', 'california', 'japan', 'southafrica',\n",
       "       'ipretendtobefromcanada,butiamreallyfromtheunitedstates',\n",
       "       'iceland', 'scotland', 'denmark', 'unitedstated', 'switzerland',\n",
       "       'ahemamerca', 'ud', 'newjersey', 'indonesia', 'thenetherlands',\n",
       "       'unitedstatss', 'endland', 'atlantis', 'murrika', 'usa!usa!usa!',\n",
       "       'usaa', 'alaska', 'sovietcanuckistan', 'namerica', 'singapore',\n",
       "       'ussa', 'china', 'taiwan', 'hongkong', 'spain', 'sweden', 'narnia',\n",
       "       'unitedstatea', 'unitedststes', 'subscribetodm4uz3onyoutube',\n",
       "       'usausausa!!!!', \"idon'tknowanymore\", 'fearandloathing'],\n",
       "      dtype=object)"
      ]
     },
     "execution_count": 53,
     "metadata": {},
     "output_type": "execute_result"
    }
   ],
   "source": [
    "Candy['Country'].unique()"
   ]
  },
  {
   "cell_type": "code",
   "execution_count": 54,
   "id": "4d9b5d61",
   "metadata": {},
   "outputs": [
    {
     "data": {
      "text/plain": [
       "36"
      ]
     },
     "execution_count": 54,
     "metadata": {},
     "output_type": "execute_result"
    }
   ],
   "source": [
    "Candy['Country'].isna().sum()"
   ]
  },
  {
   "cell_type": "code",
   "execution_count": 55,
   "id": "0e66ee3c",
   "metadata": {},
   "outputs": [
    {
     "data": {
      "text/plain": [
       "count             2300\n",
       "unique              74\n",
       "top       unitedstates\n",
       "freq              1929\n",
       "Name: Country, dtype: object"
      ]
     },
     "execution_count": 55,
     "metadata": {},
     "output_type": "execute_result"
    }
   ],
   "source": [
    "Candy['Country'].describe()"
   ]
  },
  {
   "cell_type": "code",
   "execution_count": 56,
   "id": "9b4bc6ac",
   "metadata": {},
   "outputs": [
    {
     "data": {
      "text/plain": [
       "unitedstates       1929\n",
       "canada              213\n",
       "unitedkingdom        33\n",
       "germany              10\n",
       "australia             7\n",
       "                   ... \n",
       "canae                 1\n",
       "trumpistan            1\n",
       "korea                 1\n",
       "southafrica           1\n",
       "fearandloathing       1\n",
       "Name: Country, Length: 74, dtype: int64"
      ]
     },
     "execution_count": 56,
     "metadata": {},
     "output_type": "execute_result"
    }
   ],
   "source": [
    "Candy['Country'].value_counts()"
   ]
  },
  {
   "cell_type": "code",
   "execution_count": 66,
   "id": "cd341b3e",
   "metadata": {},
   "outputs": [],
   "source": [
    "Candy['Country']=Candy['Country'].astype('category')"
   ]
  },
  {
   "cell_type": "code",
   "execution_count": 67,
   "id": "1ff3e0ef",
   "metadata": {},
   "outputs": [],
   "source": [
    "assert Candy['Country'].dtype== 'category'"
   ]
  },
  {
   "cell_type": "code",
   "execution_count": 68,
   "id": "398aea19",
   "metadata": {},
   "outputs": [
    {
     "data": {
      "text/plain": [
       "count             2300\n",
       "unique              74\n",
       "top       unitedstates\n",
       "freq              1929\n",
       "Name: Country, dtype: object"
      ]
     },
     "execution_count": 68,
     "metadata": {},
     "output_type": "execute_result"
    }
   ],
   "source": [
    "Candy['Country'].describe()"
   ]
  },
  {
   "cell_type": "code",
   "execution_count": 69,
   "id": "0395c1fb",
   "metadata": {},
   "outputs": [
    {
     "data": {
      "text/plain": [
       "36"
      ]
     },
     "execution_count": 69,
     "metadata": {},
     "output_type": "execute_result"
    }
   ],
   "source": [
    "Candy['Country'].isna().sum()"
   ]
  },
  {
   "cell_type": "markdown",
   "id": "63e8a5a3",
   "metadata": {},
   "source": [
    "There is only 36 NAN values so we can drop it ✂️."
   ]
  },
  {
   "cell_type": "code",
   "execution_count": 72,
   "id": "b6ff7f83",
   "metadata": {},
   "outputs": [],
   "source": [
    "Candy = Candy.dropna(subset = ['Country'])"
   ]
  },
  {
   "cell_type": "code",
   "execution_count": 73,
   "id": "d82d1a83",
   "metadata": {},
   "outputs": [
    {
     "data": {
      "text/plain": [
       "0"
      ]
     },
     "execution_count": 73,
     "metadata": {},
     "output_type": "execute_result"
    }
   ],
   "source": [
    "Candy['Country'].isna().sum()"
   ]
  },
  {
   "cell_type": "markdown",
   "id": "81d706db",
   "metadata": {},
   "source": [
    "There is 1929 person fron unitedstates 🤨."
   ]
  },
  {
   "cell_type": "markdown",
   "id": "a5c3b2e9",
   "metadata": {},
   "source": [
    " "
   ]
  },
  {
   "cell_type": "code",
   "execution_count": null,
   "id": "14f720cf",
   "metadata": {},
   "outputs": [],
   "source": []
  }
 ],
 "metadata": {
  "kernelspec": {
   "display_name": "Python 3 (ipykernel)",
   "language": "python",
   "name": "python3"
  },
  "language_info": {
   "codemirror_mode": {
    "name": "ipython",
    "version": 3
   },
   "file_extension": ".py",
   "mimetype": "text/x-python",
   "name": "python",
   "nbconvert_exporter": "python",
   "pygments_lexer": "ipython3",
   "version": "3.9.13"
  }
 },
 "nbformat": 4,
 "nbformat_minor": 5
}
